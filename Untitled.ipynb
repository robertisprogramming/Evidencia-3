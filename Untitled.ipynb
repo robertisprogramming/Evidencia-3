{
  "metadata": {
    "language_info": {
      "codemirror_mode": {
        "name": "python",
        "version": 3
      },
      "file_extension": ".py",
      "mimetype": "text/x-python",
      "name": "python",
      "nbconvert_exporter": "python",
      "pygments_lexer": "ipython3",
      "version": "3.8"
    },
    "kernelspec": {
      "name": "python",
      "display_name": "Python (Pyodide)",
      "language": "python"
    }
  },
  "nbformat_minor": 4,
  "nbformat": 4,
  "cells": [
    {
      "cell_type": "code",
      "source": "import pickle\n\n# Definir una clase de ejemplo\nclass Persona:\n    def __init__(self, nombre, edad):\n        self.nombre = nombre\n        self.edad = edad\n\n# Crear un objeto de ejemplo\npersona = Persona(\"Juan\", 25)\n\n# Serializar el objeto en un archivo pickle\nwith open(\"archivo.pickle\", \"wb\") as archivo:\n    pickle.dump(persona, archivo)\n\n# Recuperar el contenido del archivo y deserializarlo\nwith open(\"archivo.pickle\", \"rb\") as archivo:\n    objeto_recuperado = pickle.load(archivo)\n\n# Mostrar el objeto original\nprint(\"Objeto original:\")\nprint(objeto_recuperado.nombre)\nprint(objeto_recuperado.edad)",
      "metadata": {},
      "execution_count": null,
      "outputs": []
    }
  ]
}